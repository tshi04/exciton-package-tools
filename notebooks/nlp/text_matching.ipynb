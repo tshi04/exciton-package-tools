{
 "cells": [
  {
   "cell_type": "code",
   "execution_count": null,
   "id": "6f5ded0e",
   "metadata": {},
   "outputs": [],
   "source": [
    "from exciton.nlp.text_matching import Exciton_Text_Matching"
   ]
  },
  {
   "cell_type": "code",
   "execution_count": null,
   "id": "8087c73a",
   "metadata": {},
   "outputs": [],
   "source": [
    "model = Exciton_Text_Matching()\n",
    "model.predict(\"我今天要去上班。\", \"我明天要去北京。\")"
   ]
  },
  {
   "cell_type": "code",
   "execution_count": null,
   "id": "f2d8757d",
   "metadata": {},
   "outputs": [],
   "source": [
    "model = Exciton_Text_Matching()\n",
    "model.predict(\"I will visit you tomorrow.\", \"Tomorrow, I will go to New York.\")"
   ]
  },
  {
   "cell_type": "code",
   "execution_count": null,
   "id": "cdc2f70d",
   "metadata": {},
   "outputs": [],
   "source": []
  }
 ],
 "metadata": {
  "kernelspec": {
   "display_name": "Python 3 (ipykernel)",
   "language": "python",
   "name": "python3"
  },
  "language_info": {
   "codemirror_mode": {
    "name": "ipython",
    "version": 3
   },
   "file_extension": ".py",
   "mimetype": "text/x-python",
   "name": "python",
   "nbconvert_exporter": "python",
   "pygments_lexer": "ipython3",
   "version": "3.10.6"
  }
 },
 "nbformat": 4,
 "nbformat_minor": 5
}
