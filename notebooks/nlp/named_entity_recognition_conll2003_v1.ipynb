{
 "cells": [
  {
   "cell_type": "code",
   "execution_count": 1,
   "id": "5629fcf0",
   "metadata": {},
   "outputs": [],
   "source": [
    "import json\n",
    "from pprint import pprint\n",
    "from tqdm import tqdm\n",
    "# !pip install -U nervaluate\n",
    "from nervaluate import Evaluator\n",
    "\n",
    "from exciton.nlp.named_entity_recognition import Exciton_NER\n",
    "from exciton.nlp.named_entity_recognition.utils import clean_result"
   ]
  },
  {
   "cell_type": "code",
   "execution_count": 2,
   "id": "5320c677",
   "metadata": {},
   "outputs": [],
   "source": [
    "def process_spans(input_data):\n",
    "    input_data[\"named_entities\"] = sorted(input_data[\"named_entities\"], key=lambda x: x[\"span\"][0])\n",
    "    sents = []\n",
    "    x = 0\n",
    "    for sen in input_data[\"named_entities\"]:\n",
    "        text = input_data[\"text\"][x:sen[\"span\"][0]]\n",
    "        sents.append({\"text\": text, \"label\": \"O\"})\n",
    "        text = input_data[\"text\"][sen[\"span\"][0]:sen[\"span\"][1]]\n",
    "        sents.append({\"text\": text, \"label\": sen[\"label\"]})\n",
    "        x = sen[\"span\"][1]\n",
    "    text = input_data[\"text\"][x:]\n",
    "    sents.append({\"text\": text, \"label\": \"O\"})\n",
    "\n",
    "    tokens = []\n",
    "    for itm in sents:\n",
    "        for k, sen in enumerate(itm[\"text\"].split()):\n",
    "            if itm[\"label\"] == \"O\":\n",
    "                tokens.append({\"token\": sen, \"label\": itm[\"label\"]})\n",
    "            else:\n",
    "                if k == 0:\n",
    "                    tokens.append({\"token\": sen, \"label\": \"B-\" + itm[\"label\"]})\n",
    "                else:\n",
    "                    tokens.append({\"token\": sen, \"label\": \"I-\" + itm[\"label\"]})\n",
    "    return tokens"
   ]
  },
  {
   "cell_type": "code",
   "execution_count": 3,
   "id": "bb6a625a",
   "metadata": {},
   "outputs": [],
   "source": [
    "model = Exciton_NER(path_to_model=\"/tmp/conll2003_xlmroberta/\", device=\"cuda:0\")"
   ]
  },
  {
   "cell_type": "code",
   "execution_count": 4,
   "id": "8b2fe7f7",
   "metadata": {},
   "outputs": [
    {
     "name": "stderr",
     "output_type": "stream",
     "text": [
      "100%|██████████████████████████████████████████████████████████████████████████████████████████████████████████████████████████████████████████████████████████████████████████| 3682/3682 [00:00<00:00, 27827.10it/s]"
     ]
    },
    {
     "name": "stdout",
     "output_type": "stream",
     "text": [
      "3682\n"
     ]
    },
    {
     "name": "stderr",
     "output_type": "stream",
     "text": [
      "\n",
      "100%|█████████████████████████████████████████████████████████████████████████████████████████████████████████████████████████████████████████████████████████████████████████| 3682/3682 [00:00<00:00, 150769.08it/s]\n"
     ]
    }
   ],
   "source": [
    "data = []\n",
    "with open(\"/home/tshi/exciton/datasets/nlp/named_entity_recognition/conll2003_v1/test.jsonl\", \"r\") as fp:\n",
    "    for line in fp:\n",
    "        itm = json.loads(line)\n",
    "        itm[\"text\"] = \" \".join(itm[\"tokens\"])\n",
    "        itm[\"etokens\"] = itm[\"tokens\"]\n",
    "        data.append(itm)\n",
    "print(len(data))\n",
    "\n",
    "gold = []\n",
    "for itm in tqdm(data):\n",
    "    results = process_spans(clean_result(itm))\n",
    "    gold.append([sen[\"label\"] for sen in results])\n",
    "pred = []\n",
    "for itm in tqdm(model.predict(data)):\n",
    "    results = process_spans(itm)\n",
    "    pred.append([sen[\"label\"] for sen in results])"
   ]
  },
  {
   "cell_type": "code",
   "execution_count": 5,
   "id": "994ad839",
   "metadata": {},
   "outputs": [
    {
     "name": "stdout",
     "output_type": "stream",
     "text": [
      "{'ent_type': {'actual': 5852,\n",
      "              'correct': 5056,\n",
      "              'f1': 0.8754978354978356,\n",
      "              'incorrect': 434,\n",
      "              'missed': 208,\n",
      "              'partial': 0,\n",
      "              'possible': 5698,\n",
      "              'precision': 0.8639781271360218,\n",
      "              'recall': 0.8873288873288874,\n",
      "              'spurious': 362},\n",
      " 'exact': {'actual': 5852,\n",
      "           'correct': 5256,\n",
      "           'f1': 0.9101298701298701,\n",
      "           'incorrect': 234,\n",
      "           'missed': 208,\n",
      "           'partial': 0,\n",
      "           'possible': 5698,\n",
      "           'precision': 0.8981544771018455,\n",
      "           'recall': 0.9224289224289224,\n",
      "           'spurious': 362},\n",
      " 'partial': {'actual': 5852,\n",
      "             'correct': 5256,\n",
      "             'f1': 0.9303896103896104,\n",
      "             'incorrect': 0,\n",
      "             'missed': 208,\n",
      "             'partial': 234,\n",
      "             'possible': 5698,\n",
      "             'precision': 0.9181476418318524,\n",
      "             'recall': 0.9429624429624429,\n",
      "             'spurious': 362},\n",
      " 'strict': {'actual': 5852,\n",
      "            'correct': 4914,\n",
      "            'f1': 0.8509090909090908,\n",
      "            'incorrect': 576,\n",
      "            'missed': 208,\n",
      "            'partial': 0,\n",
      "            'possible': 5698,\n",
      "            'precision': 0.8397129186602871,\n",
      "            'recall': 0.8624078624078624,\n",
      "            'spurious': 362}}\n"
     ]
    }
   ],
   "source": [
    "evaluator = Evaluator(gold, pred, tags=['LOC', 'PER', \"ORG\", \"MISC\"], loader=\"list\")\n",
    "results, results_by_tag = evaluator.evaluate()\n",
    "pprint(results)"
   ]
  },
  {
   "cell_type": "code",
   "execution_count": 6,
   "id": "2ef40ecd",
   "metadata": {},
   "outputs": [
    {
     "name": "stdout",
     "output_type": "stream",
     "text": [
      "[{'named_entities': [{'label': 'ORG',\n",
      "                      'span': [54, 72],\n",
      "                      'text': 'Oviedo: De aquella'},\n",
      "                     {'label': 'ORG', 'span': [79, 82], 'text': 'Tar'},\n",
      "                     {'label': 'LOC', 'span': [82, 87], 'text': 'tiere'}],\n",
      "  'text': 'La presencia femenina en el homenaje a los socios del Oviedo: De '\n",
      "          'aquella en el Tartiere todo eran paisanos'}]\n"
     ]
    }
   ],
   "source": [
    "text = [\"La presencia femenina en el homenaje a los socios del Oviedo: De aquella en el Tartiere todo eran paisanos\"]\n",
    "pprint(model.predict(text))"
   ]
  },
  {
   "cell_type": "code",
   "execution_count": 7,
   "id": "610647c5",
   "metadata": {},
   "outputs": [
    {
     "name": "stdout",
     "output_type": "stream",
     "text": [
      "[{'named_entities': [{'label': 'LOC', 'span': [3, 5], 'text': '纽约'}],\n",
      "  'text': '我要去纽约。'}]\n"
     ]
    }
   ],
   "source": [
    "text = [\"我要去纽约。\"]\n",
    "pprint(model.predict(text))"
   ]
  },
  {
   "cell_type": "code",
   "execution_count": null,
   "id": "e3659b04",
   "metadata": {},
   "outputs": [],
   "source": []
  }
 ],
 "metadata": {
  "kernelspec": {
   "display_name": "Python 3 (ipykernel)",
   "language": "python",
   "name": "python3"
  },
  "language_info": {
   "codemirror_mode": {
    "name": "ipython",
    "version": 3
   },
   "file_extension": ".py",
   "mimetype": "text/x-python",
   "name": "python",
   "nbconvert_exporter": "python",
   "pygments_lexer": "ipython3",
   "version": "3.8.10"
  }
 },
 "nbformat": 4,
 "nbformat_minor": 5
}
