{
 "cells": [
  {
   "cell_type": "code",
   "execution_count": 1,
   "id": "5629fcf0",
   "metadata": {},
   "outputs": [],
   "source": [
    "import json\n",
    "from pprint import pprint\n",
    "from tqdm import tqdm\n",
    "# !pip install -U nervaluate\n",
    "from nervaluate import Evaluator\n",
    "\n",
    "from exciton.nlp.event_detection import Exciton_ED\n",
    "from exciton.nlp.event_detection.utils import clean_result"
   ]
  },
  {
   "cell_type": "code",
   "execution_count": 2,
   "id": "bb6a625a",
   "metadata": {},
   "outputs": [],
   "source": [
    "model = Exciton_ED(path_to_model=\"/tmp/ed_maven_xlmroberta/\", device=\"cuda:0\")"
   ]
  },
  {
   "cell_type": "code",
   "execution_count": 3,
   "id": "5320c677",
   "metadata": {},
   "outputs": [],
   "source": [
    "def process_spans(input_data):\n",
    "    input_data[\"events\"] = sorted(input_data[\"events\"], key=lambda x: x[\"span\"][0])\n",
    "    sents = []\n",
    "    x = 0\n",
    "    for sen in input_data[\"events\"]:\n",
    "        text = input_data[\"text\"][x:sen[\"span\"][0]]\n",
    "        sents.append({\"text\": text, \"label\": \"O\"})\n",
    "        text = input_data[\"text\"][sen[\"span\"][0]:sen[\"span\"][1]]\n",
    "        sents.append({\"text\": text, \"label\": sen[\"label\"]})\n",
    "        x = sen[\"span\"][1]\n",
    "    text = input_data[\"text\"][x:]\n",
    "    sents.append({\"text\": text, \"label\": \"O\"})\n",
    "\n",
    "    tokens = []\n",
    "    for itm in sents:\n",
    "        for k, sen in enumerate(itm[\"text\"].split()):\n",
    "            if itm[\"label\"] == \"O\":\n",
    "                tokens.append({\"token\": sen, \"label\": itm[\"label\"]})\n",
    "            else:\n",
    "                if k == 0:\n",
    "                    tokens.append({\"token\": sen, \"label\": \"B-\" + itm[\"label\"]})\n",
    "                else:\n",
    "                    tokens.append({\"token\": sen, \"label\": \"I-\" + itm[\"label\"]})\n",
    "    return tokens"
   ]
  },
  {
   "cell_type": "code",
   "execution_count": 4,
   "id": "8b2fe7f7",
   "metadata": {},
   "outputs": [
    {
     "name": "stderr",
     "output_type": "stream",
     "text": [
      " 31%|████████████████████████████████████████████████████▍                                                                                                                     | 2480/8042 [00:00<00:00, 24799.96it/s]"
     ]
    },
    {
     "name": "stdout",
     "output_type": "stream",
     "text": [
      "8042\n"
     ]
    },
    {
     "name": "stderr",
     "output_type": "stream",
     "text": [
      "100%|██████████████████████████████████████████████████████████████████████████████████████████████████████████████████████████████████████████████████████████████████████████| 8042/8042 [00:00<00:00, 33745.88it/s]\n",
      "100%|██████████████████████████████████████████████████████████████████████████████████████████████████████████████████████████████████████████████████████████████████████████| 8042/8042 [00:00<00:00, 66317.08it/s]\n"
     ]
    }
   ],
   "source": [
    "data = []\n",
    "with open(\"/home/tshi/exciton/datasets/nlp/event_detection/ed_maven_v1/test.jsonl\", \"r\") as fp:\n",
    "    for line in fp:\n",
    "        itm = json.loads(line)\n",
    "        itm[\"text\"] = \" \".join(itm[\"tokens\"])\n",
    "        itm[\"etokens\"] = itm[\"tokens\"]\n",
    "        data.append(itm)\n",
    "print(len(data))\n",
    "\n",
    "gold = []\n",
    "for itm in tqdm(data):\n",
    "    results = process_spans(clean_result(itm))\n",
    "    gold.append([sen[\"label\"] for sen in results])\n",
    "pred = []\n",
    "for itm in tqdm(model.predict(data)):\n",
    "    results = process_spans(itm)\n",
    "    pred.append([sen[\"label\"] for sen in results])"
   ]
  },
  {
   "cell_type": "code",
   "execution_count": 5,
   "id": "994ad839",
   "metadata": {},
   "outputs": [
    {
     "name": "stdout",
     "output_type": "stream",
     "text": [
      "{'ent_type': {'actual': 16104,\n",
      "              'correct': 9519,\n",
      "              'f1': 0.5444717725790768,\n",
      "              'incorrect': 1859,\n",
      "              'missed': 7484,\n",
      "              'partial': 0,\n",
      "              'possible': 18862,\n",
      "              'precision': 0.5910953800298062,\n",
      "              'recall': 0.5046654649559962,\n",
      "              'spurious': 4726},\n",
      " 'exact': {'actual': 16104,\n",
      "           'correct': 11161,\n",
      "           'f1': 0.6383915803923812,\n",
      "           'incorrect': 217,\n",
      "           'missed': 7484,\n",
      "           'partial': 0,\n",
      "           'possible': 18862,\n",
      "           'precision': 0.6930576254346746,\n",
      "           'recall': 0.5917187997031068,\n",
      "           'spurious': 4726},\n",
      " 'partial': {'actual': 16104,\n",
      "             'correct': 11161,\n",
      "             'f1': 0.6445976091059887,\n",
      "             'incorrect': 0,\n",
      "             'missed': 7484,\n",
      "             'partial': 217,\n",
      "             'possible': 18862,\n",
      "             'precision': 0.6997950819672131,\n",
      "             'recall': 0.5974711059272612,\n",
      "             'spurious': 4726},\n",
      " 'strict': {'actual': 16104,\n",
      "            'correct': 9379,\n",
      "            'f1': 0.5364639935937768,\n",
      "            'incorrect': 1999,\n",
      "            'missed': 7484,\n",
      "            'partial': 0,\n",
      "            'possible': 18862,\n",
      "            'precision': 0.5824018877297565,\n",
      "            'recall': 0.4972431343441841,\n",
      "            'spurious': 4726}}\n"
     ]
    }
   ],
   "source": [
    "with open(\"/tmp/ed_maven_xlmroberta/labels.json\", \"r\") as fp:\n",
    "    labels = json.load(fp)\n",
    "labels = [wd.replace(\"B-\", \"\").replace(\"I-\", \"\") for wd in labels if wd != \"O\"]\n",
    "labels = list(set(labels))\n",
    "evaluator = Evaluator(gold, pred, tags=labels, loader=\"list\")\n",
    "results, results_by_tag = evaluator.evaluate()\n",
    "pprint(results)"
   ]
  },
  {
   "cell_type": "code",
   "execution_count": 6,
   "id": "2ef40ecd",
   "metadata": {},
   "outputs": [
    {
     "name": "stdout",
     "output_type": "stream",
     "text": [
      "[{'events': [],\n",
      "  'text': 'La presencia femenina en el homenaje a los socios del Oviedo: De '\n",
      "          'aquella en el Tartiere todo eran paisanos'}]\n"
     ]
    }
   ],
   "source": [
    "text = [\"La presencia femenina en el homenaje a los socios del Oviedo: De aquella en el Tartiere todo eran paisanos\"]\n",
    "pprint(model.predict(text))"
   ]
  },
  {
   "cell_type": "code",
   "execution_count": 7,
   "id": "610647c5",
   "metadata": {},
   "outputs": [
    {
     "name": "stdout",
     "output_type": "stream",
     "text": [
      "[{'events': [{'label': 'Cause_change_of_position_on_a_scale',\n",
      "              'span': [173, 176],\n",
      "              'text': '提高了'}],\n",
      "  'text': '随着气温回暖，新疆目前已进入春耕春播期，各地通过北斗导航精量播种、干播湿出、种肥分离等技术的运用，助力春耕生产顺利进行。 '\n",
      "          '在新疆昌吉玛纳斯县六户地镇的千亩春小麦种植基地，装有北斗导航系统的大马力拖拉机，带着改良后的新式播种机，正在进行春小麦播种。这种播种机可按照预先设定的线路进行精量播种，而且覆土、铺设滴灌带也同步完成，不仅实现了全程机械化，还提高了作业精度和效率，每天可比传统播种机多播50亩地左右。 '}]\n"
     ]
    }
   ],
   "source": [
    "text = [\"随着气温回暖，新疆目前已进入春耕春播期，各地通过北斗导航精量播种、干播湿出、种肥分离等技术的运用，助力春耕生产顺利进行。 在新疆昌吉玛纳斯县六户地镇的千亩春小麦种植基地，装有北斗导航系统的大马力拖拉机，带着改良后的新式播种机，正在进行春小麦播种。这种播种机可按照预先设定的线路进行精量播种，而且覆土、铺设滴灌带也同步完成，不仅实现了全程机械化，还提高了作业精度和效率，每天可比传统播种机多播50亩地左右。 \"]\n",
    "pprint(model.predict(text))"
   ]
  },
  {
   "cell_type": "code",
   "execution_count": 8,
   "id": "e3659b04",
   "metadata": {},
   "outputs": [
    {
     "name": "stdout",
     "output_type": "stream",
     "text": [
      "[{'events': [{'label': 'Attack', 'span': [15, 18], 'text': 'hit'}],\n",
      "  'text': 'The snow storm hits new york.'}]\n"
     ]
    }
   ],
   "source": [
    "text = [\"The snow storm hits new york.\"]\n",
    "pprint(model.predict(text))"
   ]
  },
  {
   "cell_type": "code",
   "execution_count": null,
   "id": "bbb53ca0",
   "metadata": {},
   "outputs": [],
   "source": []
  }
 ],
 "metadata": {
  "kernelspec": {
   "display_name": "Python 3 (ipykernel)",
   "language": "python",
   "name": "python3"
  },
  "language_info": {
   "codemirror_mode": {
    "name": "ipython",
    "version": 3
   },
   "file_extension": ".py",
   "mimetype": "text/x-python",
   "name": "python",
   "nbconvert_exporter": "python",
   "pygments_lexer": "ipython3",
   "version": "3.8.10"
  }
 },
 "nbformat": 4,
 "nbformat_minor": 5
}
