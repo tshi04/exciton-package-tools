{
 "cells": [
  {
   "cell_type": "code",
   "execution_count": null,
   "id": "4f29cdf6",
   "metadata": {},
   "outputs": [],
   "source": [
    "from exciton.nlp.sentence_tokenizer import Sentence_Tokenizer\n",
    "from pprint import pprint\n",
    "\n",
    "model = Sentence_Tokenizer()"
   ]
  },
  {
   "cell_type": "markdown",
   "id": "d9b245d7",
   "metadata": {},
   "source": [
    "# Support Languages"
   ]
  },
  {
   "cell_type": "code",
   "execution_count": null,
   "id": "147d23b6",
   "metadata": {},
   "outputs": [],
   "source": [
    "langs = model.get_support_languages()\n",
    "print(len(langs))\n",
    "for itm in langs:\n",
    "    print(itm)"
   ]
  },
  {
   "cell_type": "markdown",
   "id": "09e324f3",
   "metadata": {},
   "source": [
    "# Examples"
   ]
  },
  {
   "cell_type": "code",
   "execution_count": null,
   "id": "996162d9",
   "metadata": {},
   "outputs": [],
   "source": [
    "text = \"\"\"\n",
    "የአንድ ሣምንቱ የስርጭት ኮሮጆም \"ዝግጅት\" የሚለውን በመጫን ሊገኝ ይችላል። የአማርኛ፣ የኪስዋሂሊ፣ የሀውሳ፣ የእንግሊዝኛ፣ የፈረንሣይኛ እና የፖርቱጊዝኛ ቋንቋ ሥርጭት በሚተላለፍበት ጊዜ በኢንተርኔት በቀጥታ ማድመጥም ይቻላል። በፌስቡክ የቀጥታ ሥርጭት፣ በቴሌግራም፤ እንዲሁም በDW Amharic መተግበሪያ ላይም ልታገኙን ትችላላችሁ። አስተያየታችሁ ዐቢይ ግምት የሚሰጠው ነው። በ +49-228-429-164995 ደውሉልን። በአጠቃላይ በዝግጅታችን ላይ አስተያየታችሁን በኢሜይልም ልትልኩልን ትችላላችሁ።\n",
    "\"\"\"\n",
    "print(text)\n",
    "result = model.predict(text, \"am\")\n",
    "print(len(result))\n",
    "pprint(result)\n"
   ]
  },
  {
   "cell_type": "code",
   "execution_count": null,
   "id": "90a2401a",
   "metadata": {},
   "outputs": [],
   "source": [
    "text = \"\"\"\n",
    "سجل عدد جرائم معاداة السامية في العاصمة الألمانية برلين مستوى قياسيا جديدا في العام الماضي حسب بيانات الادعاء العام. وفي تصريحات لوكالة الأنباء الألمانية \"د ب أ\"، قال فلوريان هنغست مفوض معاداة السامية في برلين اليوم الأحد (12 مارس/ آذار 2023) إن عدد هذه الجرائم التي تم تسجيلها لدى الادعاء العام في العام الماضي وصل إلى 691 جريمة.\n",
    "\"\"\"\n",
    "print(text)\n",
    "result = model.predict(text, \"ar\")\n",
    "print(len(result))\n",
    "pprint(result)\n"
   ]
  },
  {
   "cell_type": "code",
   "execution_count": null,
   "id": "ab54cbe9",
   "metadata": {},
   "outputs": [],
   "source": [
    "text = \"\"\"\n",
    "Чилийският режисьор Пепе Ровано всъщност се казва по друг начин, но не желае да носи името на баща си. Той би искал да се дистанцира от него максимално. \"Син съм на престъпник - на човек, който носи отговорността за смъртта на шестима бойци от комунистическата партия\", казва Ровано, цитиран от АРД. \n",
    "\"\"\"\n",
    "print(text)\n",
    "result = model.predict(text, \"bg\")\n",
    "print(len(result))\n",
    "pprint(result)\n"
   ]
  },
  {
   "cell_type": "code",
   "execution_count": null,
   "id": "96bad066",
   "metadata": {},
   "outputs": [],
   "source": [
    "text = \"\"\"\n",
    "পেরু ও বেলজিয়ামের বিপক্ষে চলতি মাসে দুটি আন্তর্জাতিক প্রীতি ম্যাচ খেলবে চারবারের বিশ্বচ্যাম্পিয়ন জার্মানি। তরুণদের সুযোগএই দুই ম্যাচের দল থেকে অভিজ্ঞ ফরোয়ার্ড থমাস মুলারকে বাদ দেওয়া হয়েছে বলে জানিয়েছেন দলের কোচ হান্সি ফ্লিক। জার্মান স্পোর্টস ম্যাগাজিন কিকারের সঙ্গে আলাপকালে..., পেরু ও বেলজিয়ামের বিপক্ষে চলতি মাসে দুটি আন্তর্জাতিক প্রীতি ম্যাচ খেলবে চারবারের বিশ্বচ্যাম্পিয়ন জার্মানি। তরুণদের সুযোগএই দুই ম্যাচের দল থেকে অভিজ্ঞ ফরোয়ার্ড থমাস মুলারকে বাদ দেওয়া হয়েছে বলে জানিয়েছেন দলের কোচ হান্সি ফ্লিক। জার্মান স্পোর্টস ম্যাগাজিন কিকারের সঙ্গে আলাপকালে ফ্লিক বলেন, ‘এর অর্থ এই নয় যে ২০২৪ ইউরো থেকে মুলার বাদ পড়েছেন। আগামী দুই ম্যাচে মুলার দলে থাকছেন না। এটা তার সঙ্গে আলোচনা করেই করা হয়েছে। জাতীয় দলে তরুণ খলোয়াড়দের সুযোগ দিতে চাই, ভবিষ্যতের কথা চিন্তা করেই এই সিদ্ধান্ত নেওয়া হয়েছে।’ আগামী ২৫ মার্চ মেইঞ্জে পেরুর মোকাবেলা করবে জার্মানি। এর তিনদিন পর কোলনে বেলজিয়ামকে আতিথ্য দিবে সাদা জার্সিধারীরা। ৩৩ বছর বয়সী মুলার গত বছর ক্যারিয়ারের চতুর্থ বিশ্বকাপ খেলেছেন। ফর্মহীনতার কারণে কাতারে তার পারফরম্যান্স নিয়ে সমালোচনা হয়েছে বেশ। কিন্তু বিশ্বকাপের পর আন্তর্জাতিক দায়িত্ব থেকে অবসরের কোন ইঙ্গিত দেননি মুলার। মুলার জানিয়েছিলেন, ‘পেশাদার ফুটবলার হিসেবে যতদিন খেলার মধ্যে আছি জাতীয় দলের প্রয়োজন পড়লে আমি তাদের সঙ্গে আছি।’ ইউরো ২০২৪’কে সামনে রেখে দলের তরুণদের আরো অভিজ্ঞ করে তোলাই ফ্লিকের মূল লক্ষ্য। টানা দুই বিশ্বকাপে গ্রুপ পর্ব থেকে বিদায়ের পর জার্মানিকে আবারও জয়ের ধারা ফেরাতেই ইচ্ছা পোষণ করেছেন ফ্লিক। এ সময় ফ্লিক বলেন, ‘সবচেয়ে গুরুত্বপূর্ণ হচ্ছে ভাল ফুটবল উপহার দেওয়া, ফুটবলের প্রতি প্রতিশ্রুতির প্রমাণ দেওয়া। যখন সবাই দেখবে আমরা জার্মানির হয়ে খেলার জন্য সর্বোচ্চ দেওয়ার চেষ্টা করছি তখন তাদের মানসিকতারও পরিবর্তন হবে।’\n",
    "\"\"\"\n",
    "print(text)\n",
    "result = model.predict(text, \"bn\")\n",
    "print(len(result))\n",
    "pprint(result)\n"
   ]
  },
  {
   "cell_type": "code",
   "execution_count": null,
   "id": "51876b63",
   "metadata": {},
   "outputs": [],
   "source": [
    "text = \"\"\"\n",
    "Demonstracije organizuje pokret „40 dana za život\", nastao u Teksasu 2004. godine. Njihovi članovi pozivaju na održavanje takozvanih \"bdijenja\" ispred objekata za obavljanje pobacaja u trajanju od 40 dana, počevši od dana Pepelnice, koji označava početak posta. Demonstranti kažu da ne žele da razgovaraju sa medijima. Štampa ih, tvrde, ne prikazuje u pravom svjetlu. Njihove riječi bi bile pogrešno predstavljene i korištene protiv njih. Oni samo žele da se mole u miru, naglašavaju.\n",
    "\"\"\"\n",
    "print(text)\n",
    "result = model.predict(text, \"bs\")\n",
    "print(len(result))\n",
    "pprint(result)\n"
   ]
  },
  {
   "cell_type": "code",
   "execution_count": null,
   "id": "b0670233",
   "metadata": {},
   "outputs": [],
   "source": [
    "text = \"\"\"\n",
    "Finalment, els laboratoris Arkopharma, empresa creada en 1980 i basada a transformar la intel·ligència de la naturalesa en solucions per a la salut, tindrà presència en l’esdeveniment. Aquests laboratoris busquen a través de les plantes medicinals oferir productes naturals que millorin el benestar de les persones, lliures de químics que pretenen alleujar malalties quotidianes sense necessitat de recórrer a compostos químics.\n",
    "\"\"\"\n",
    "print(text)\n",
    "result = model.predict(text, \"ca\")\n",
    "print(len(result))\n",
    "pprint(result)\n",
    "\n"
   ]
  },
  {
   "cell_type": "code",
   "execution_count": null,
   "id": "4fc829c1",
   "metadata": {},
   "outputs": [],
   "source": [
    "text = \"\"\"\n",
    "Praha za Rakouska-Uherska: Jedinečné staré snímky zachycují její zašlou podmanivou atmosféru foto: Library of Congress Krásné fotografie Prahy ještě z dob 19. století skrývá kromě českých archívů i Knihovna Kongresu Spojených států amerických. Na snímcích pořízených mezi lety 1860 až 1890 navíc zachycuje většinu památek, jež jsou dnes v obležení turistů, takřka úplně opuštěné.  Právě zmíněná opuštěnost dává těmto snímkům známých pražských dominant zvláštní kouzlo. Téměř liduprázdné Staroměstské náměstí, Karlův most, po němž se dá pohodlně projít, či Prašná brána bez lidí. Památky, které jsou dnes v obležení zejména turistů, si tak můžete vychutnat v naprosto odlišném pohledu.   Johana Kudrnová\n",
    "\"\"\"\n",
    "print(text)\n",
    "result = model.predict(text, \"cs\")\n",
    "print(len(result))\n",
    "pprint(result)\n",
    "\n"
   ]
  },
  {
   "cell_type": "code",
   "execution_count": null,
   "id": "2914177d",
   "metadata": {},
   "outputs": [],
   "source": [
    "text = \"\"\"\n",
    "Zugleich forderte Klitschko mehr Tempo bei weiteren Waffenlieferungen. \"Es stimmt, die deutsche Regierung trifft ihre Entscheidungen viel zu langsam, und dafür zahlen wir den höchsten Preis: das Leben unserer Soldaten und das Leben unserer Bürger.\" Dennoch zeigte sich Klitschko siegesgewiss. \"Wir sind sehr, sehr motiviert. Wir gewinnen diesen sinnlosen Krieg. Russland hat keine Chance.\"\n",
    "\"\"\"\n",
    "print(text)\n",
    "result = model.predict(text, \"de\")\n",
    "print(len(result))\n",
    "pprint(result)\n",
    "      "
   ]
  },
  {
   "cell_type": "code",
   "execution_count": null,
   "id": "219496d0",
   "metadata": {},
   "outputs": [],
   "source": [
    "text = \"\"\"\n",
    "Στη συνέχεια, το BBC αποφάσισε να τον απολύσει εξηγώντας ότι, «παραβίασε τους όρους της αντικειμενικότητας που απαιτεί ο σταθμός από όσους εργάζονται σε αυτόν.  Και τέλος, το ποδόσφαιρο, καθώς όχι μόνο «ξηλώθηκε» ένας θρύλος του βρετανικού ποδοσφαίρου, αλλά παράλληλα και άλλοι συμπαρουσιαστές και σχολιαστές αρνήθηκαν να εκτελέσουν τα καθήκοντά τους ως ένδειξη αλληλεγγύης προς τον Λίνεκερ.\n",
    "72 ώρες μετά το ξέσπασμα της διαμάχης λοιπόν, παραμένει στην κορυφή της επικαιρότητας και μάλιστα το όνομα Λίνεκερ κατακλύζει για δεύτερη συνεχόμενη ημέρα τα βρετανικά πρωτοσέλιδα. Το επίθετό του συνοδεύουν οι λέξεις χάος, καταιγίδα και μπλακάουτ.\n",
    "\"\"\"\n",
    "print(text)\n",
    "result = model.predict(text, \"el\")\n",
    "print(len(result))\n",
    "pprint(result)\n",
    "\n"
   ]
  },
  {
   "cell_type": "code",
   "execution_count": null,
   "id": "11560fb6",
   "metadata": {},
   "outputs": [],
   "source": [
    "text = \"\"\"\n",
    "This week in Berlin, Habeck said that Germany must speed up its switch to renewable energy, making up for time lost under the previous government. Otherwise, he said, neither the climate targets, enshrined in law but which Germany is unlikely to meet, nor the transformation of the economy necessary to ensure future prosperity could be achieved.\n",
    "\"\"\"\n",
    "print(text)\n",
    "result = model.predict(text, \"en\")\n",
    "print(len(result))\n",
    "pprint(result)\n",
    "\n"
   ]
  },
  {
   "cell_type": "code",
   "execution_count": null,
   "id": "aabc7083",
   "metadata": {},
   "outputs": [],
   "source": [
    "text = \"\"\"\n",
    "Según el empresario, cercano a Putin, \"los ucranianos están lanzando interminables reservas (a la lucha)\". Prigozhin también destacó que su ejército privado finalmente está recibiendo municiones del Ministerio de Defensa ruso. \"Chicos del Ministerio de Defensa llegan de Zaporiyia, Donetsk e incluso Avdiivka, donde hay combates encarnizados, con munición para nosotros\", dijo.\n",
    "\"\"\"\n",
    "print(text)\n",
    "result = model.predict(text, \"es\")\n",
    "print(len(result))\n",
    "pprint(result)\n"
   ]
  },
  {
   "cell_type": "code",
   "execution_count": null,
   "id": "163e708f",
   "metadata": {},
   "outputs": [],
   "source": [
    "text = \"\"\"\n",
    "Pentsiodunen mugimenduaren arabera, egun Euskal Herrian hilabetean 800 eurotik beherako ordaina jasotzen duten 199.800 pentsiodun daude, eta horien %76 emakumeak dira. Deitzaileek salatu dute gainera, Espainiako Gobernua pentsioen erreformaren bigarren zatiaren diseinua eztabaidatzen ari dela egunotan, eta ez duela ezarri bizitza duina bermatzeko gutxieneko langarik. Sareko BERRIAzalea: Irakurri berri duzun edukia eta antzekoak zure interesekoak badira, eskari bat egin nahi dizugu: Berria diruz babestea. Zuk eta zure gisako sareko milaka irakurlek egindako ekarpenarekin, eduki gehiago eta hobeak sortuko ditugu. Eta, zuekin osatutako komunitateari esker, publizitateak eta erakundeen laguntzek bermatzen ez diguten bideragarritasuna lortuko dugu. Euskarazko kazetaritza libre, ireki eta konprometitua eskaini nahi dizugu egunero; bizi zaren munduaren eta garaiaren berri ematen segitu.\n",
    "\"\"\"\n",
    "print(text)\n",
    "result = model.predict(text, \"eu\")\n",
    "print(len(result))\n",
    "pprint(result)\n",
    "\n"
   ]
  },
  {
   "cell_type": "code",
   "execution_count": null,
   "id": "2841c7ce",
   "metadata": {},
   "outputs": [],
   "source": [
    "text = \"\"\"\n",
    "نقطه اوج خرید نفت آمریکا از کشورهای خلیج فارس در ماه مه ۲۰۰۱ با رقم ۹۶.۷ میلیون بشکه بود که در ماه دسامبر ۲۰۲۰ به ۱۰.۵ میلیون بشکه کاهش یافت. این رقم در ماه دسامبر ۲۰۲۲ به ۳۱.۸ میلیون بشکه ارتقا پیدا کرد. اما کاهش چشمگیر خرید نفت در حد بیش از هفتاد درصد به معنای از بین رفتن اهمیت راهبردی خلیج فارس برای آمریکا نیست. معادلات نظامی، راهبردی و امنیتی کماکان مشارکت فعال در این خطه آبی-زمینی را برای امنیت ملی و منافع ملی آمریکا ضروری می‌کند.\n",
    "\"\"\"\n",
    "print(text)\n",
    "result = model.predict(text, \"fa\")\n",
    "print(len(result))\n",
    "pprint(result)\n",
    "\n"
   ]
  },
  {
   "cell_type": "code",
   "execution_count": null,
   "id": "2e25da2b",
   "metadata": {},
   "outputs": [],
   "source": [
    "text = \"\"\"\n",
    "Fonseliuksen mukaan henkilö on ollut venäläisviranomaisten hallussa, ja Fonselius olettaa hänen olevan siellä edelleen.  Valtionrajarikoksia esitutkinnassa tänä vuonna yhteensä 10 Kaakkois-Suomen rajavartiosto on alkuvuoden aikana avannut yhteensä kymmenen esitutkintaa valtionrajarikoksesta. Tapauksista yhdeksässä henkilö on saapunut Suomeen puutteellisilla matkustusasiakirjoilla tai kokonaan ilman matkustusasiakirjoja. Joukionsalmen alueella tapahtunut epäilty rajanylitys on kuitenkin ensimmäinen tapaus tänä vuonna, jossa epäilty valtionrajarikos on tapahtunut rajanylityspaikkojen ulkopuolella.  Rajavartiostolla on käynnissä esitutkintoja myös laittoman maahantulon järjestämiseen ja väärennyksiin liittyvissä rikosepäilyissä. Rajavartiosto on määrännyt alkuvuoden aikana 105 kappaletta sakkoja, joissa yleisimmät nimikkeet ovat olleet ulkomaalaisrikkomus, ajoneuvorikkomus ja liikenneturvallisuuden vaarantaminen.\n",
    "\"\"\"\n",
    "print(text)\n",
    "result = model.predict(text, \"fi\")\n",
    "print(len(result))\n",
    "pprint(result)\n",
    "\n"
   ]
  },
  {
   "cell_type": "code",
   "execution_count": null,
   "id": "ad3bda56",
   "metadata": {},
   "outputs": [],
   "source": [
    "text = \"\"\"\n",
    "Emmanuel Neuzilka est le porte-parole du mouvement. Il explique n’avoir eu aucune \"explication convaincante\" et dénonce \"une forme d'exploitation parce qu'en plus d'avoir attendu des années pour être intégré à la fonction publique, on travaille sans salaire. C'est déplorable, nous sommes en location, nous devons prendre nos familles en charge et nous nous sommes lourdement endettés.\" \n",
    "\"\"\"\n",
    "print(text)\n",
    "result = model.predict(text, \"fr\")\n",
    "print(len(result))\n",
    "pprint(result)\n"
   ]
  },
  {
   "cell_type": "code",
   "execution_count": null,
   "id": "54f02c9b",
   "metadata": {},
   "outputs": [],
   "source": [
    "text = \"\"\"\n",
    "Can a Mozambique ma guguwar ta Freddy ta kashe mutane 4 baya ga rushe tarin gidaje da makarantu tun bayan isar ta kasar a asabar din da ta gabata. Mahukuntan kasashen biyu makwabtan juna sun bayyana yiwuwar karuwar wadanda guguwar ta Freddy ta illata lura da yadda iska mai karfi hade da ruwa ke sake afkawa wasu sassan kasashen a bangare guda kuma ake laluben tarin mutanen da suka bace.\n",
    "\"\"\"\n",
    "print(text)\n",
    "result = model.predict(text, \"ha\")\n",
    "print(len(result))\n",
    "pprint(result)\n"
   ]
  },
  {
   "cell_type": "code",
   "execution_count": null,
   "id": "74bff53f",
   "metadata": {},
   "outputs": [],
   "source": [
    "text = \"\"\"\n",
    "साल 2018 में चीन का संविधान बदलकर किसी नेता के अधिकतम दो बार राष्ट्रपति बनने की सीमा खत्म कर दी गई थी. तब जानकारों ने कहा था कि ऐसा करके असल में जिनपिंग के अनिश्चितकाल तक राष्ट्रपति बने रहने का रास्ता बनाया जा रहा है. अब उनकी तीसरी नियुक्ति चीन के सियासी पटल पर उनकी मजबूत पकड़ दिखाती है. उनके समर्थक उन्हें माओत्से तुंग के बाद चीन का सबसे ताकतवर नेता करार देते हैं.\n",
    "\"\"\"\n",
    "print(text)\n",
    "result = model.predict(text, \"hi\")\n",
    "print(len(result))\n",
    "pprint(result)\n"
   ]
  },
  {
   "cell_type": "code",
   "execution_count": null,
   "id": "dc7c6713",
   "metadata": {},
   "outputs": [],
   "source": [
    "text = \"\"\"\n",
    "Prošlo je više od godinu dana otkako je Rusija započela agresorski rat u Ukrajini. Količina dezinformacija u vezi tog rata, koja se pojavila na društvenim mrežama, je ogromna. One se šire putem influensera, botova ili lažnih naloga. Svakodnevno milijarde korisnika objavljuju sadržaje na platformama društvenih mreža kao što su Twitter, Instagram, Facebook i TikTok, i pritom se uvijek iznova šire laži. Međutim, o dezinformaciji se radi tek kada se pogrešne informacije ciljano šire, odnosno kada iza njihovog širenja postoji namjera.\n",
    "\"\"\"\n",
    "print(text)\n",
    "result = model.predict(text, \"hr\")\n",
    "print(len(result))\n",
    "pprint(result)\n"
   ]
  },
  {
   "cell_type": "code",
   "execution_count": null,
   "id": "cda8669e",
   "metadata": {},
   "outputs": [],
   "source": [
    "text = \"\"\"\n",
    "Indonesia memiliki 23% cadangan nikel dunia yang sangat penting bagi manufaktur di bidang ini. Saat ini Indonesia juga tengah mengembangkan ekosistem industri kendaraan listrik dari hulu ke hilir. Target produksi mobil berbahan listrik sebanyak 600 ribu unit dan 2,45 juta sepeda motor listrik per tahun di 2030 pun ditetapkan dengan harapan dapat mengurangi emisi karbon sebesar 3,8 juta ton.\n",
    "\"\"\"\n",
    "print(text)\n",
    "result = model.predict(text, \"id\")\n",
    "print(len(result))\n",
    "pprint(result)\n",
    "\n"
   ]
  },
  {
   "cell_type": "code",
   "execution_count": null,
   "id": "fdfd322b",
   "metadata": {},
   "outputs": [],
   "source": [
    "text = \"\"\"\n",
    "Milano, 13 mar. (Adnkronos) - Un ragazzo di 16 anni ha perso la vita e un suo amico di 18 è rimasto ferito in seguito ad un incidente avvenuto nel pomeriggio di ieri a Biassono, in provincia di Monza Brianza. I due ragazzi erano a bordo delle loro motociclette, entrambe di cilindrata 125 cc, quando per cause ancora da accertare, si sono scontrati frontalmente con un'auto proveniente dal senso inverso, guidata da un giovane di 22 anni. I due ragazzi si erano incontrati per un moto raduno, ma l'ipotesi che stessero correndo per delle gare clandestine sembra al momento poco accreditata dagli investigatori. L'incidente è avvenuto intorno alle 16.30: sul posto sono intervenuti i sanitari del 118 Areu che hanno trasportato i due giovani centauri in ospedale: il sedicenne è stato ricoverato in codice rosso al Niguarda, dove stamane, intorno a mezzogiorno, è deceduto. L'altro motociclista se l'è cavata con una prognosi di sette giorni. Il conducente dell'auto, rimasto illeso, è risultato negativo all'alcool test. Sul caso indagano i carabinieri, che dovranno accertare il perché l'auto, pur trovandosi nel mezzo del rettilineo e procedendo a velocità ridottissima, come per parcheggiare, non sia riuscita ad evitare l'impatto con le due moto.  \n",
    "\"\"\"\n",
    "print(text)\n",
    "result = model.predict(text, \"it\")\n",
    "print(len(result))\n",
    "pprint(result)\n"
   ]
  },
  {
   "cell_type": "code",
   "execution_count": null,
   "id": "2727df58",
   "metadata": {},
   "outputs": [],
   "source": [
    "text = \"\"\"\n",
    " 経営破綻したシリコンバレー銀行（ＳＶＢ）の持ち株会社ＳＶＢファイナンシャル・グループは、投資銀行部門および、ベンチャーキャピタルとプライベート・クレジット・ファンドのプラットフォーム事業部門を対象に、戦略的代替策を模索している。同グループはＳＶＢ破綻余波への対応に追われている。 13日の発表によれば、両部門はＳＶＢとは分離されている。グループが保有する約30億ドル（約3980億円）の長期債務についても選択肢を模索するという。 いずれのプロセスもグループが新設した再編委員会を中心に進められる。グループ資産の大半はＳＶＢが占めていたが、投資銀部門のＳＶＢセキュリティーズは昨年、90億ドル相当のＭ＆Ａ（企業の合併・買収）で助言業務を行った。またファンドプラットフォームのＳＶＢキャピタルは昨年12月末時点で95億ドルの運用資産があった。\n",
    " \"\"\"\n",
    "print(text)\n",
    "result = model.predict(text, \"ja\")\n",
    "print(len(result))\n",
    "pprint(result)\n"
   ]
  },
  {
   "cell_type": "code",
   "execution_count": null,
   "id": "d5cf6e3f",
   "metadata": {},
   "outputs": [],
   "source": [
    "text = \"\"\"\n",
    "수원화성 축성의 주역이자 수원유수부를 지낸 조심태(趙心泰, 1740~1799)의 조선시대 초상화가 처음으로 발견됐다.  13일 수원특례시에 따르면 김세영 수원화성박물관 학예연구사는 오는 5월 개막 예정인 ‘수원유수부 승격 230주년 기념 전시’ 관련 자료 조사 과정에서 조심태의 조선시대 초상화 2점을 이번달 초 발견했다.  무신 조심태는 정조대왕이 총애하던 신하 중 한 명으로, 1794년 수원화성 축성 당시에는 감동당상(監董堂上)을 맡아 완공에 중추적인 역할을 했다.   그러나 조심태의 문중은 물론이고, 어디에서도 당시에 그린 초상화가 발견되지 않았다.  조심태 초상화는 삼성 일가가 2021년 국립중앙박물관에 기증한, 이른바 ‘이건희 컬렉션’의 수집품 2만3천300여점 속에 파묻혀 있었다. 국립중앙박물관은 이와 관련한 정리를 마치고 올해 1월부터 전국 박물관의 소장품 정보를 모아둔 e뮤지엄에 1만여건의 정보를 공개했다.  이를 통해 김 학예연구사는 시복본(채색) 오른쪽 상단에 ‘趙御將心泰(조어장심태)’라는 글씨가 쓰여있는 것을 보고 조심태의 초상화라는 것을 알아챘다. ‘어장’은 ‘어영대장(御營大將)’의 준말로 조심태는 1794년 수원유수에 임명되기 전인 1792년 어영대장을 지낸 바 있다. 채색한 시복본의 초본으로 추정되는 시복본에는 오른쪽 상단에 ‘大將趙心泰(대장조심태)’라는 글이 쓰여있다.  시는 국립중앙박물관과 협의를 거쳐 조심태 초상화 2점을 5월 개최 예정인 ‘수원유수부 승격 230주년 기념 전시’에 소개할 계획이다. © 경기일보(www.kyeonggi.com), 무단전재 및 수집, 재배포금지\n",
    "\"\"\"\n",
    "print(text)\n",
    "result = model.predict(text, \"ko\")\n",
    "print(len(result))\n",
    "pprint(result)\n"
   ]
  },
  {
   "cell_type": "code",
   "execution_count": null,
   "id": "fb00d0cd",
   "metadata": {},
   "outputs": [],
   "source": [
    "text = \"\"\"\n",
    "A+ شەفەق نیوز/ دەسەی کەشناسی عراق، ئمڕوو دووشەممە، مەزەنەی کەشوهەوای وڵاتەگە تا رووژەیل ئی هەفتە راگەیان، و باس واران و تەگر و داوەزین پلەی گەرمی کرد. دەسەگە لە بەیاننامەیگ رەسیە ئاژانس شەفەق نیوز وت: کەشوهەوای سوو سێشەممە، لە ناوچەی ناوڕاس رووشنە وەگەرد لەکە ئەوریگ، و لە بەشەیل خوەرئاوای نیمچە ئەورە وەگەرد دەرفەت واران و تریشقە، و پلەی گەرمی لە رووژ وەرجە خوەی بەرزترەو بوود، و لە ناوچەی باکوور نیمچە ئەورە تا ئەور تەواوە وەگەرد واران لە بەشەیل خوەرئاوای و جاروباریش تریشقە وەگەردی هەس، و پلەی گەرمی نزیک رووژ وەرجەخوەیە، و لە ناوچەی باشوور رووشنە وەگەرد لەکە ئەوریگ، و پلەی گەرمی چەن پلەیگ بەرزەو بوود. بەیاننامەگە وتیش: کەشوهەوای رووژ چوارشەممە، لە ناوچەی ناوڕاس نیمچە ئەورە تا ئەور تەواو وەگەرد دەرفەت واران ناوڕاس تا رفتیگ، و جاروباریش تریشقە وەگەردی بوود، و پلەی گەرمی چەن پلەیگ لە رووژ وەرجە خوەی داوەزێد، و لە ناوچەی باکوور ئەورە وەگەرد دەرفەت واران ناوڕاس تا واران رفتیگ و تەگر وارێد و بوودە ئەور و تریشقە، و پلەی گەرمی چەن پلەیگ داوەزێد، و لە ناوچەی باشوور نیمچە ئەورە بوومە ئەور تەواویگ، وەگەرد نمە وارانیگ، جاروباریش بوودە ئەور و تریشقە، و پلەی گەرمی نزیک رووژ وەرجەخوەیە.   وتیش: رووژ پەنجشەممە، رووشنە تا نیمچە ئەوریگ، وەگەرد دەرفەت واران لە ناوچەیلیگ جیاجیا لە ناوچەی ناوڕاس، و پلەی گەرمی چەن پلەیگ داوەزێد، و لە ناوچەی باکوور نیمچە ئەورە تا ئەور تەواو وەگەرد دەرفەت نمە وارانیگ جاروبار لە چەن ناوچەیگ بوودە ئەور و تریشقە، و پلەی گەرمی چەن پلەیگ داوەزێد،و لە ناوچەی باشوور رووشنە وەگەرد لەکە ئەوریگ، و پلەی گەرمی نزیک رووژ وەرجەخوەیە. دیاری کرد ک کەشوهەوای رووژ جمعەی ئایندە، لە گشت وڵاتەگە رووشنە وەگەرد لەکە ئەوریگ، و پلەی گەرمی لە ناوچەیل ناوڕاس و باکوور کەمیگ بەرزەو بوود، و لە ناوچەی باشوور نزیک رووژ وەرجەخوەیە. \n",
    "\"\"\"\n",
    "print(text)\n",
    "result = model.predict(text, \"ku\")\n",
    "print(len(result))\n",
    "pprint(result)\n"
   ]
  },
  {
   "cell_type": "code",
   "execution_count": null,
   "id": "743847c4",
   "metadata": {},
   "outputs": [],
   "source": [
    "text = \"\"\"\n",
    "Секој седми граѓанин во Германија во рок од три месеци ја пречекорил својата сметка или зел краткорочен кредит од банката за покривање на минусот, покажува студија на централите за заштита на потрошувачите, до која стигнал јавниот германски сервис АРД. Околу половина од засегнатите признале дека причина се високите трошоци предизвикани од инфлацијата или зголемените цени на енергенсите.\n",
    "\"\"\"\n",
    "print(text)\n",
    "result = model.predict(text, \"mk\")\n",
    "print(len(result))\n",
    "pprint(result)\n",
    "\n"
   ]
  },
  {
   "cell_type": "code",
   "execution_count": null,
   "id": "1bd8ff4d",
   "metadata": {},
   "outputs": [],
   "source": [
    "text = \"\"\"\n",
    "Mann i 50-årene er tiltalt for å ha kjørt i 162 km/t på E18 i Grimstad i påvirket tilstand. Den tiltalte erkjenner straffeskyld., Agderposten arbeider etter Vær Varsom-plakatens regler for god presseskikk. Se også Redaktøransvar. Agderposten har ikke ansvar for innhold på eksterne nettsider som det lenkes til. Alt innhold er opphavsrettslig beskyttet 2023 © Agderposten.\n",
    "\"\"\"\n",
    "print(text)\n",
    "result = model.predict(text, \"nb\")\n",
    "print(len(result))\n",
    "pprint(result)\n"
   ]
  },
  {
   "cell_type": "code",
   "execution_count": null,
   "id": "79759541",
   "metadata": {},
   "outputs": [],
   "source": [
    "text = \"\"\"\n",
    "Orkun Kökçü draagt komende zondag tijdens Ajax-Feyenoord een alternatieve aanvoerdersband. De aanvoerder van de Rotterdammers geeft daarmee op zijn eigen manier invulling aan de OneLove-campagne, die gericht is tegen discriminatie en racisme. Kökçü liet afgelopen zondagavond al weten dat hij de OneLove-band net als in oktober vorig jaar niet draagt, omdat hij zich er uit geloofsovertuiging niet prettig bij voelt. Hij zei destijds dat hij geen \"uithangbord\" wilde zijn van de lhbtiq+-gemeenschap. Vijf maanden geleden werd Kökçü als Feyenoord-aanvoerder eenmalig vervangen door Gernot Trauner, die de OneLove-band wél droeg. Nu blijft Kökçü dus aanvoerder, maar met een aangepaste band, waarop 'Respect voor iedereen' staat. \"De tekst op onze aanvoerdersband, die ik ook zondag weer met trots zal dragen, dekt voor mij beter de lading en past bovendien beter bij mij\", zegt Kökçü maandag op de site van Feyenoord. Feyenoord meldt verder dat trainer Arne Slot bij de wedstrijd tegen Ajax in de Johan Cruijff ArenA een OneLove-speldje draagt. Verder zal de Rotterdamse club online aandacht vragen voor de actie. Eerdere keuze Kökçü leidde tot ophef In oktober stond de OneLove-campagne in het teken van Coming Out Week. Naast Kökçü zorgde toen ook Excelsior-aanvoerder Redouan El Yaakoubi voor ophef door de band niet om te doen. Hij droeg een witte band met het woord 'Respect' erop.\n",
    "\"\"\"\n",
    "print(text)\n",
    "result = model.predict(text, \"nl\")\n",
    "print(len(result))\n",
    "pprint(result)\n",
    "\n"
   ]
  },
  {
   "cell_type": "code",
   "execution_count": null,
   "id": "fd782cf6",
   "metadata": {},
   "outputs": [],
   "source": [
    "text = \"\"\"\n",
    "Alle burde unna seg å dykka ned i Christianity Todays fyldige reportasje «No Celebrities Except Jesus», om vekkinga ved Asbury-universitetet i USA. Rapportane om såkalla «outpouring», altså eit heilt særmerkt åndsnærvær, ved det lite spektakulære universitetet i delstaten Kentucky sildra etter kvart også inn her heime. Til og med VG og NRK Oppdatert måtte til slutt laga saker om den åndelege unntakssituasjonen blant Gen Z som brått braut inn over campus ein heilt vanleg februardag.\n",
    "\"\"\"\n",
    "print(text)\n",
    "result = model.predict(text, \"no\")\n",
    "print(len(result))\n",
    "pprint(result)\n"
   ]
  },
  {
   "cell_type": "code",
   "execution_count": null,
   "id": "5d426d34",
   "metadata": {},
   "outputs": [],
   "source": [
    "text = \"\"\"\n",
    "Zastrzega, że nie chodzi o to, by żądać od Ukrainy gotowości do negocjacji już dziś. „Byłoby to jednoznaczne z żądaniem wobec Kijowa, by pozostawił Rosji Krym i Donbas. To równałoby się częściowej kapitulacji wobec agresora, ze wszystkim często opisywanymi katastrofalnymi skutkami dla bezpieczeństwa i stabilności w Europie” – podkreśla były dyplomata, dodając, iż „tylko Ukraina może zdecydować kiedy i o czym chce negocjować”.\n",
    "\"\"\"\n",
    "print(text)\n",
    "result = model.predict(text, \"pl\")\n",
    "print(len(result))\n",
    "pprint(result)\n"
   ]
  },
  {
   "cell_type": "code",
   "execution_count": null,
   "id": "745f8e31",
   "metadata": {},
   "outputs": [],
   "source": [
    "text = \"\"\"\n",
    "بوریس راین، نخست وزیر ایالت هسن آلمان گفته است که هر چند موضوع اخراج ها مربوط به ایالت هاست، \"اما دست ما عملا در این قسمت بسته است\". او در ادامه می گوید که \"ایالت هسن نمی تواند با کشورهای مبدا مهاجران که از پس گرفتن آنها امتناع می ورزند یا روند بازگردان را پیچیده می کنند، مذاکره کند. این کار وظیفه حکومت فدرال است.\" \n",
    "\"\"\"\n",
    "print(text)\n",
    "result = model.predict(text, \"prs\")\n",
    "print(len(result))\n",
    "pprint(result)\n",
    "# Dari\n"
   ]
  },
  {
   "cell_type": "code",
   "execution_count": null,
   "id": "d0423c97",
   "metadata": {},
   "outputs": [],
   "source": [
    "text = \"\"\"\n",
    "اسلامي دولت نومې ډلې یا داعش په مزار شریف ښار کې په یوه کلتوري مرکز کې د وړمې ورځې د شوې چاودنې مسوولیت منلی دی., اسلامي دولت نومې ډلې په مزار شریف ښار کې په یوه کلتوري مرکز کې د شوې چاودنې مسوولیت منلی اسلامي دولت نومې ډلې په مزار شریف ښار کې په یوه کلتوري مرکز کې د شوې چاودنې مسوولیت منلی ۱ ساعت وړاندې د عکس سرچینه، Getty Images اسلامي دولت نومې ډلې یا داعش په مزار شریف ښار کې په یوه کلتوري مرکز کې د وړمې ورځې د شوې چاودنې مسوولیت منلی دی. په هغه خبرپاڼه کې چې په اسلامي دولت نومي ډلې یا داعش پورې تړلې وېبپاڼې (اعماق) کې خپره شوې، ویل شوي، په مزار شریف ښار کې یې په کلتوري مرکز کې چاودنه چې  ''هدف یې خبریالان او شعیه ګان وو '' په دغه ښار کې د طالبانو پر والي له برید دوې وروسته کړې ده. په دغه چاودنه کې د دوو خبریالانو په ګډون لږ تر لږه درې کسان وژل شوي او د ۱۵ خبریالانو او څو ماشومانو په ګډون پکې تر دېرشو نور کسان ټپیان شوي دي. دغه چاودنه د ملګرو ملتونو، امریکا، اروپايي ټولنې او د خبریالانو او رسنیزو ګڼو ملاتړو بنسټونو غندلې او هغه یې ترهګریز عمل ګڼلی دی. له پېښې وروسته د افغانستان د ازاداو خبریالانو ټولنې په یوه خبرپاڼه کې ویلي  و، د مزار شریف ښار پېښه کې ۱۴ خبریالان ژوبل شوي او په دې چاودنه کې د مرګ ژوبلې شمېره لوړه ښيي. دغې ټولنې د طالبانو له حکومته غوښتي چې د پېښې کره پلټنه وکړي او د خبریالانو د خوندیتوب لپاره دې اړین ګامونه پورته شي. د تېرې پنجشنبې پر ګهیځ په همدې مزار ښار کې یو بل ځانمرګي برید چې ترسره کوونکی یې (داعش) خراسان څانګې خپل بریدګر وباله،‌ بلخ کې د طالبانو حکومت والي مولوي محمد داوود مزمل له څو نورو کسانو سره وواژه. \n",
    "\n",
    "\"\"\"\n",
    "print(text)\n",
    "result = model.predict(text, \"ps\")\n",
    "print(len(result))\n",
    "pprint(result)\n"
   ]
  },
  {
   "cell_type": "code",
   "execution_count": null,
   "id": "512ce883",
   "metadata": {},
   "outputs": [],
   "source": [
    "text = \"\"\"\n",
    "Monstruosa é a característica encontrada para classificar o rasto de destruição deixadas pelo ciclone tropical \"Freddy\". O fenómeno natural deixou a cidade de Quelimane e distritos circunvizinhos num apagão total. A eletricidade de Moçambique fala em mais de um milhão de clientes sem acesso à energia elétrica.\n",
    "\"\"\"\n",
    "print(text)\n",
    "result = model.predict(text, \"pt\")\n",
    "print(len(result))\n",
    "pprint(result)\n"
   ]
  },
  {
   "cell_type": "code",
   "execution_count": null,
   "id": "86ceeded",
   "metadata": {},
   "outputs": [],
   "source": [
    "text = \"\"\"\n",
    "Acești nababi ai politicii autohtone care fură, fug și se ascund mai ales în state ale Uniunii Europene sunt lăsați să scape de justiție și li se permite să rămână ascunși prin tăcerea, complicitatea sau nepăsarea guvernului român. Ei scapă, fiindcă legile sunt făcute în așa fel încât să-i lase să scape, să nu fie obligatoriu să fie ținuți sub urmărire, să poată fi lăsați să plece oriunde oricând, chiar dacă sunt într-un proces în care riscă ani grei de închisoare. Când Laura Codruța Kövesi candida pentru fotoliul Parchetului European, procurorii au hărțuit-o cu toate procedurile posibile, doar, doar va abandona cursa. Pentru ea era posibil controlul judiciar, dar pentru Arsene și restul fugarilor, nu.  \n",
    "\"\"\"\n",
    "print(text)\n",
    "result = model.predict(text, \"ro\")\n",
    "print(len(result))\n",
    "pprint(result)\n"
   ]
  },
  {
   "cell_type": "code",
   "execution_count": null,
   "id": "469ce031",
   "metadata": {},
   "outputs": [],
   "source": [
    "text = \"\"\"\n",
    "Президент Украины Владимир Зеленский присвоил звание Героя Украины Александру Мациевскому. Ранее в воскресенье Служба безопасности Украины окончательно подтвердила личность взятого в плен и расстрелянного безоружного украинского солдата. Резонансное видео казни военнопленного появилось в соцсетях 6 марта. На записи военный произносит \"Слава Украине\", после этого слышен звук автоматной очереди.\n",
    "\"\"\"\n",
    "print(text)\n",
    "result = model.predict(text, \"ru\")\n",
    "print(len(result))\n",
    "pprint(result)\n"
   ]
  },
  {
   "cell_type": "code",
   "execution_count": null,
   "id": "6998a307",
   "metadata": {},
   "outputs": [],
   "source": [
    "text = \"\"\"\n",
    "Pagat minimale në shumë vende të BE janë ulur për shkak të inflacionit. Për shumë qytetarë nuk mjaftojnë të ardhurat aktuale për të kompensuar rritjen e çmimeve, sipas raportit të Institutit Ekonomik dhe Shoqëror.\n",
    "\"\"\"\n",
    "print(text)\n",
    "result = model.predict(text, \"sq\")\n",
    "print(len(result))\n",
    "pprint(result)\n"
   ]
  },
  {
   "cell_type": "code",
   "execution_count": null,
   "id": "273966e5",
   "metadata": {},
   "outputs": [],
   "source": [
    "text = \"\"\"\n",
    "Među kontinentima, najveći pad uvoza od 40 odsto doživela je Afrika. To, kako kaže naš sagovornik, nije u direktnoj vezi sa brojem oružanih sukoba. „Tamošnje zemlje ne mogu da priušte mnogo naoružanja visoke tehnologije, zato vrednost transfera oružja nije tolika koliko bi se pomislilo po broju konflikata.“\n",
    "\"\"\"\n",
    "print(text)\n",
    "result = model.predict(text, \"sr\")\n",
    "print(len(result))\n",
    "pprint(result)\n",
    "\n"
   ]
  },
  {
   "cell_type": "code",
   "execution_count": null,
   "id": "05f9cfaf",
   "metadata": {},
   "outputs": [],
   "source": [
    "text = \"\"\"\n",
    "Epiroc är ett svenskt världsledande företag som tillverkar innovativa borriggar och anläggningsutrustning. Epirocs maskiner är bland branschens mest moderna och används i dag i de största infrastrukturprojekten i Sveriges historia – och i många gruv- och infrastrukturprojekt världen över. Verksamheten präglas av innovation, engagemang och samarbete. I praktiken innebär det att Epiroc utmanar sitt sätt att arbeta och tänka för att hitta nya och hållbara lösningar i en värld som förändras snabbt.\n",
    "\"\"\"\n",
    "print(text)\n",
    "result = model.predict(text, \"sv\")\n",
    "print(len(result))\n",
    "pprint(result)\n",
    "\n"
   ]
  },
  {
   "cell_type": "code",
   "execution_count": null,
   "id": "c9671f3f",
   "metadata": {},
   "outputs": [],
   "source": [
    "text = \"\"\"\n",
    "Wizara ya mambo ya nje ya Korea Kaskazini imesema katika taarifa nyingine kuwa Marekani \"inaanda njama\" ya kuitisha mkutano wa Baraza la Usalama la Umoja wa Mataifa kuhusu haki za binadamu katika taifa hilo la kikomunisti lililojitenga, ili kwenda sambamba na luteka hiyo ya pamoja. Hata hivyo Korea Kaskazini inasema huo ni ulaghai na unadhihirisha sera ya chuki ya Marekani dhidi yake.\n",
    "Baadhi ya raia nchini Korea Kusini waliandamana siku ya Jumamosi karibu na Ofisi ya Rais mjini Seoul ili kupinga luteka hiyo. Mmoja wa waandamanaji hao alisema:\n",
    "\"Nadhani kwamba kuendelea kufanya mazoezi ya kijeshi kunaweza kuwa kitendo cha uchochezi kwa upande mwingine. Hii inaweza hatimaye kugeuka kuwa mzozo.\"\n",
    "\"\"\"\n",
    "print(text)\n",
    "result = model.predict(text, \"sw\")\n",
    "print(len(result))\n",
    "pprint(result)\n"
   ]
  },
  {
   "cell_type": "code",
   "execution_count": null,
   "id": "bc724121",
   "metadata": {},
   "outputs": [],
   "source": [
    "text = \"\"\"\n",
    "இசையமைப்பாளர் கீரவாணியின் இசையில் உருவான இந்த பாடல் படம் வெளியாவதற்கு முன்பே மக்களின் கவனத்தை ஈர்த்தது. குறிப்பாக இப்பாடலில் இடம்பெற்ற நடிகர்கள் ராம்சரண் மற்றும் ஜூனியர் என்.டி.ஆர் ஆகியோரின் நடன அசைவுகள் உலகளவில் அனைவரையும் ரசிக்க வைத்தது., ராஜமவுலி இயக்கத்தில் வெளியான ஆர்ஆர்ஆர் திரைப்படத்தின் நாட்டு நாட்டு பாடல் இன்று ஆஸ்கர் விருதை வென்றுள்ளது. இசையமைப்பாளர் கீரவாணியின் இசையில் உருவான இந்த பாடல் படம் வெளியாவதற்கு முன்பே மக்களின் கவனத்தை ஈர்த்தது. குறிப்பாக  இப்பாடலில் இடம்பெற்ற நடிகர்கள் ராம்சரண் மற்றும் ஜூனியர் என்.டி.ஆர் ஆகியோரின் நடன அசைவுகள் உலகளவில் அனைவரையும் ரசிக்க வைத்தது. தற்போது ஆஸ்கர் விருதை வென்றுள்ள இந்த பாடலின் வெற்றி குறித்து, ரசிகர்களின் கருத்தை தெரிந்துகொள்ள காணொளியை காணுங்கள்.\n",
    "\"\"\"\n",
    "print(text)\n",
    "result = model.predict(text, \"ta\")\n",
    "print(len(result))\n",
    "pprint(result)\n"
   ]
  },
  {
   "cell_type": "code",
   "execution_count": null,
   "id": "98f034a2",
   "metadata": {},
   "outputs": [],
   "source": [
    "text = \"\"\"\n",
    "Rapora göre, listenin birinci sırasında yer alan ABD'nin 2018-2022 yılları arasında küresel silah ihracatındaki payı, önceki dört yıla göre yüzde 7 artış göstererek yüzde 40'a yükseldi. İkinci sıradaki Rusya'nın payı ise yüzde 22'den yüzde 16'ya geriledi. ABD ve Rusya'yı üçüncü sıradaki Fransa, dördüncü sıradaki Çin ve beşinci sıradaki Almanya izledi.\n",
    "\"\"\"\n",
    "print(text)\n",
    "result = model.predict(text, \"tr\")\n",
    "print(len(result))\n",
    "pprint(result)\n"
   ]
  },
  {
   "cell_type": "code",
   "execution_count": null,
   "id": "52426e92",
   "metadata": {},
   "outputs": [],
   "source": [
    "text = \"\"\"\n",
    "Загалом до Німеччини в січні поточного року було ввезено 6,2 мільйона тонн нафти на суму в 2,8 мільярда євро - на 20,5 відсотка менше за обсягом і на 9,6 відсотка дешевше, ніж роком раніше. Припинення імпорту з РФ було компенсовано здебільшого постачанням нафти з Норвегії. Тут імпорт виріс на 44 відсотки - до 987 тисяч тонн на загальну суму в 569 мільйонів євро.\n",
    "\"\"\"\n",
    "print(text)\n",
    "result = model.predict(text, \"uk\")\n",
    "print(len(result))\n",
    "pprint(result)\n"
   ]
  },
  {
   "cell_type": "code",
   "execution_count": null,
   "id": "74ee7d10",
   "metadata": {},
   "outputs": [],
   "source": [
    "text = \"\"\"\n",
    "آج ہفتہ 11 مارچ کو ٹی وی فوٹیج میں سونامی میں اپنے پیاروں کو کھو دینے والے لوگوں کو پھول چڑھاتے، دعائیں مانگتے اور تعظیم سے جھکتے ہوئے دیکھا گیا۔ جاپان کا ایک شدید متاثر ہونے والا شہر کیسینوما پورے کا پورا زمین بوس ہو گیا تھا اور اس ناگہانی آفت کے بعد وہاں سے قریب ایک لاکھ 65 ہزار شہری اپنا گھر بار چھوڑ کر نکل گئے تھے۔ بعد ازاں اس علاقے کے جوہری پلانٹس کے آس پاس کے علاقوں کو تابکاری کے اثرات سے پاک کرنے اور رہائشی علاقوں کو محفوظ قرار دیا گیا تھا تاہم اس علاقے کے بہت سے رہائشیوں نے واپس نہ جانے کا فیصلہ کیا تھا۔\n",
    "\"\"\"\n",
    "print(text)\n",
    "result = model.predict(text, \"ur\")\n",
    "print(len(result))\n",
    "pprint(result)\n"
   ]
  },
  {
   "cell_type": "code",
   "execution_count": null,
   "id": "9f5b1c61",
   "metadata": {},
   "outputs": [],
   "source": [
    "text = \"\"\"\n",
    "Theo Tổ chức khí tượng thế giới, bão Freddy, một trong những cơn bão mạnh nhất ghi nhận tại nam bán cầu, cũng được cho là cơn bão kéo dài nhất khi vượt qua kỷ lục trước đây thuộc về 1 cơn bão kéo dài 31 ngày xảy ra năm 1994.\n",
    "Rạng sáng cùng ngày, tại Brazil, đã có 8 người thiệt mạng sau khi lở đất xảy ra tại khu vực phía đông của Manaus - thủ phủ bang Amazon, miền bắc nước này. Truyền thông địa phương đưa tin trong số những người thiệt mạng có 4 trẻ em.\n",
    "Lực lượng cứu hỏa địa phương cho hay, lở đất đã làm bùn trôi xuống 9 ngôi nhà. Các nhân viên cứu hộ và cư dân địa phương đang nỗ lực tìm kiếm những người còn sống sót.\n",
    "\"\"\"\n",
    "print(text)\n",
    "result = model.predict(text, \"vi\")\n",
    "print(len(result))\n",
    "pprint(result)\n"
   ]
  },
  {
   "cell_type": "code",
   "execution_count": null,
   "id": "96776443",
   "metadata": {},
   "outputs": [],
   "source": [
    "text = \"\"\"\n",
    "（德国之声中文网）世界卫生组织总干事谭德塞（Tedros Adhanom Ghebreyesus）表示，新冠溯源是一项道义上的责任，而且所有关于疫情源头的假设都应该加以探究。这是他迄今发表的关于溯源任务最为强硬的表态。在疫情爆发三年多之后，这一联合国机构仍在致力于查明新冠病毒的起源。\n",
    "\"\"\"\n",
    "print(text)\n",
    "result = model.predict(text, \"zh\")\n",
    "print(len(result))\n",
    "pprint(result)\n"
   ]
  },
  {
   "cell_type": "code",
   "execution_count": null,
   "id": "0c5d867d",
   "metadata": {},
   "outputs": [],
   "source": []
  }
 ],
 "metadata": {
  "kernelspec": {
   "display_name": "Python 3 (ipykernel)",
   "language": "python",
   "name": "python3"
  },
  "language_info": {
   "codemirror_mode": {
    "name": "ipython",
    "version": 3
   },
   "file_extension": ".py",
   "mimetype": "text/x-python",
   "name": "python",
   "nbconvert_exporter": "python",
   "pygments_lexer": "ipython3",
   "version": "3.10.6"
  }
 },
 "nbformat": 4,
 "nbformat_minor": 5
}
