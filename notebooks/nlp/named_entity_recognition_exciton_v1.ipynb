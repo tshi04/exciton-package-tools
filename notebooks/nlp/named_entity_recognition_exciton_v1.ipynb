{
 "cells": [
  {
   "cell_type": "code",
   "execution_count": 1,
   "id": "5629fcf0",
   "metadata": {},
   "outputs": [],
   "source": [
    "import json\n",
    "from pprint import pprint\n",
    "from tqdm import tqdm\n",
    "# !pip install -U nervaluate\n",
    "from nervaluate import Evaluator\n",
    "\n",
    "from exciton.nlp.named_entity_recognition import Exciton_NER\n",
    "from exciton.nlp.named_entity_recognition.utils import clean_result"
   ]
  },
  {
   "cell_type": "code",
   "execution_count": 2,
   "id": "5320c677",
   "metadata": {},
   "outputs": [],
   "source": [
    "def process_spans(input_data):\n",
    "    input_data[\"named_entities\"] = sorted(input_data[\"named_entities\"], key=lambda x: x[\"span\"][0])\n",
    "    sents = []\n",
    "    x = 0\n",
    "    for sen in input_data[\"named_entities\"]:\n",
    "        text = input_data[\"text\"][x:sen[\"span\"][0]]\n",
    "        sents.append({\"text\": text, \"label\": \"O\"})\n",
    "        text = input_data[\"text\"][sen[\"span\"][0]:sen[\"span\"][1]]\n",
    "        sents.append({\"text\": text, \"label\": sen[\"label\"]})\n",
    "        x = sen[\"span\"][1]\n",
    "    text = input_data[\"text\"][x:]\n",
    "    sents.append({\"text\": text, \"label\": \"O\"})\n",
    "\n",
    "    tokens = []\n",
    "    for itm in sents:\n",
    "        for k, sen in enumerate(itm[\"text\"].split()):\n",
    "            if itm[\"label\"] == \"O\":\n",
    "                tokens.append({\"token\": sen, \"label\": itm[\"label\"]})\n",
    "            else:\n",
    "                if k == 0:\n",
    "                    tokens.append({\"token\": sen, \"label\": \"B-\" + itm[\"label\"]})\n",
    "                else:\n",
    "                    tokens.append({\"token\": sen, \"label\": \"I-\" + itm[\"label\"]})\n",
    "    return tokens"
   ]
  },
  {
   "cell_type": "code",
   "execution_count": 3,
   "id": "bb6a625a",
   "metadata": {},
   "outputs": [],
   "source": [
    "model = Exciton_NER(path_to_model=\"/tmp/exciton_xlmroberta/\", device=\"cuda:0\")"
   ]
  },
  {
   "cell_type": "code",
   "execution_count": 4,
   "id": "8b2fe7f7",
   "metadata": {},
   "outputs": [
    {
     "name": "stderr",
     "output_type": "stream",
     "text": [
      "100%|██████████████████████████████████████████████████████████████████████████████████████████████████████████████████████████████████████████████████████████████████████████| 2400/2400 [00:00<00:00, 31646.96it/s]"
     ]
    },
    {
     "name": "stdout",
     "output_type": "stream",
     "text": [
      "2400\n"
     ]
    },
    {
     "name": "stderr",
     "output_type": "stream",
     "text": [
      "\n",
      "100%|██████████████████████████████████████████████████████████████████████████████████████████████████████████████████████████████████████████████████████████████████████████| 2400/2400 [00:00<00:00, 78933.65it/s]\n"
     ]
    }
   ],
   "source": [
    "data = []\n",
    "with open(\"/home/tshi/exciton/datasets/nlp/named_entity_recognition/exciton_xlm_v1/test.jsonl\", \"r\") as fp:\n",
    "    for line in fp:\n",
    "        itm = json.loads(line)\n",
    "        itm[\"text\"] = \" \".join(itm[\"tokens\"])\n",
    "        itm[\"etokens\"] = itm[\"tokens\"]\n",
    "        data.append(itm)\n",
    "print(len(data))\n",
    "\n",
    "gold = []\n",
    "for itm in tqdm(data):\n",
    "    results = process_spans(clean_result(itm))\n",
    "    gold.append([sen[\"label\"] for sen in results])\n",
    "pred = []\n",
    "for itm in tqdm(model.predict(data)):\n",
    "    results = process_spans(itm)\n",
    "    pred.append([sen[\"label\"] for sen in results])"
   ]
  },
  {
   "cell_type": "code",
   "execution_count": 5,
   "id": "994ad839",
   "metadata": {},
   "outputs": [
    {
     "name": "stdout",
     "output_type": "stream",
     "text": [
      "{'ent_type': {'actual': 4026,\n",
      "              'correct': 2974,\n",
      "              'f1': 0.7499684781238178,\n",
      "              'incorrect': 264,\n",
      "              'missed': 667,\n",
      "              'partial': 0,\n",
      "              'possible': 3905,\n",
      "              'precision': 0.7386984600099354,\n",
      "              'recall': 0.7615877080665813,\n",
      "              'spurious': 788},\n",
      " 'exact': {'actual': 4026,\n",
      "           'correct': 2649,\n",
      "           'f1': 0.668011600050435,\n",
      "           'incorrect': 589,\n",
      "           'missed': 667,\n",
      "           'partial': 0,\n",
      "           'possible': 3905,\n",
      "           'precision': 0.657973174366617,\n",
      "           'recall': 0.6783610755441741,\n",
      "           'spurious': 788},\n",
      " 'partial': {'actual': 4026,\n",
      "             'correct': 2649,\n",
      "             'f1': 0.7422771403353929,\n",
      "             'incorrect': 0,\n",
      "             'missed': 667,\n",
      "             'partial': 589,\n",
      "             'possible': 3905,\n",
      "             'precision': 0.7311227024341779,\n",
      "             'recall': 0.7537772087067862,\n",
      "             'spurious': 788},\n",
      " 'strict': {'actual': 4026,\n",
      "            'correct': 2479,\n",
      "            'f1': 0.6251418484428194,\n",
      "            'incorrect': 759,\n",
      "            'missed': 667,\n",
      "            'partial': 0,\n",
      "            'possible': 3905,\n",
      "            'precision': 0.6157476403378043,\n",
      "            'recall': 0.6348271446862996,\n",
      "            'spurious': 788}}\n"
     ]
    }
   ],
   "source": [
    "evaluator = Evaluator(gold, pred, tags=['LOC', 'PER', \"ORG\"], loader=\"list\")\n",
    "results, results_by_tag = evaluator.evaluate()\n",
    "pprint(results)"
   ]
  },
  {
   "cell_type": "code",
   "execution_count": 6,
   "id": "2ef40ecd",
   "metadata": {},
   "outputs": [
    {
     "name": "stdout",
     "output_type": "stream",
     "text": [
      "[{'named_entities': [{'label': 'ORG', 'span': [54, 58], 'text': 'Ovie'},\n",
      "                     {'label': 'LOC', 'span': [58, 60], 'text': 'do'}],\n",
      "  'text': 'La presencia femenina en el homenaje a los socios del Oviedo: De '\n",
      "          'aquella en el Tartiere todo eran paisanos'}]\n"
     ]
    }
   ],
   "source": [
    "text = [\"La presencia femenina en el homenaje a los socios del Oviedo: De aquella en el Tartiere todo eran paisanos\"]\n",
    "pprint(model.predict(text))"
   ]
  },
  {
   "cell_type": "code",
   "execution_count": 7,
   "id": "610647c5",
   "metadata": {},
   "outputs": [
    {
     "name": "stdout",
     "output_type": "stream",
     "text": [
      "[{'named_entities': [], 'text': '小明明天要去山西。'}]\n"
     ]
    }
   ],
   "source": [
    "text = [\"小明明天要去山西。\"]\n",
    "pprint(model.predict(text))"
   ]
  },
  {
   "cell_type": "code",
   "execution_count": 2,
   "id": "e3659b04",
   "metadata": {},
   "outputs": [],
   "source": [
    "from transformers import AutoTokenizer, AutoModelForTokenClassification\n",
    "from transformers import pipeline\n",
    "tokenizer = AutoTokenizer.from_pretrained(\"/home/tshi/exciton/models/nlp/named_entity_recognition/xlm_roberta_large_ner_hrl/tokenizer\")\n",
    "model = AutoModelForTokenClassification.from_pretrained(\n",
    "    \"/home/tshi/exciton/models/nlp/named_entity_recognition/xlm_roberta_large_ner_hrl/models\",\n",
    "    output_hidden_states=True, output_attentions=True\n",
    ")\n",
    "nlp = pipeline(\"ner\", model=model, tokenizer=tokenizer)"
   ]
  },
  {
   "cell_type": "code",
   "execution_count": 5,
   "id": "e3bc49c4",
   "metadata": {},
   "outputs": [
    {
     "name": "stdout",
     "output_type": "stream",
     "text": [
      "torch.Size([1, 5, 9])\n",
      "tensor([[[12.5734, -8.5643, -9.2152, -2.2894, -1.4954, -1.2884,  0.6909,\n",
      "          -2.6070, -2.1160],\n",
      "         [14.5701, -3.6156, -3.8085, -2.7521, -1.6829, -2.1126, -1.9309,\n",
      "          -2.1725, -2.2054],\n",
      "         [14.2506, -3.2643, -3.2314, -3.3014, -1.1430, -2.0232, -1.3108,\n",
      "          -3.0898, -1.8969],\n",
      "         [12.0747, -4.1659, -3.7890, -1.6128, -2.3243,  1.9635, -0.9602,\n",
      "          -3.6512, -4.4395],\n",
      "         [11.9663, -8.5594, -9.1297, -1.4407, -0.7283,  0.2500, -0.0907,\n",
      "          -0.7336, -2.7137]]])\n"
     ]
    }
   ],
   "source": [
    "import torch\n",
    "from torch.autograd import Variable\n",
    "\n",
    "input_data = tokenizer.encode(\"I like apple\")\n",
    "input_var = Variable(torch.LongTensor([input_data]))\n",
    "with torch.no_grad():\n",
    "    print(model(input_var)[0].size())\n",
    "    print(model(input_var)[0])"
   ]
  },
  {
   "cell_type": "code",
   "execution_count": 16,
   "id": "039b79fa",
   "metadata": {},
   "outputs": [
    {
     "data": {
      "text/plain": [
       "[{'entity': 'B-LOC',\n",
       "  'score': 0.99992675,\n",
       "  'index': 5,\n",
       "  'word': '山西',\n",
       "  'start': 6,\n",
       "  'end': 8}]"
      ]
     },
     "execution_count": 16,
     "metadata": {},
     "output_type": "execute_result"
    }
   ],
   "source": [
    "model = XLMHRL_NER()\n",
    "model.predict(\"小明明天要去山西。\")"
   ]
  },
  {
   "cell_type": "code",
   "execution_count": 23,
   "id": "786d3f9c",
   "metadata": {},
   "outputs": [],
   "source": [
    "from pprint import pprint\n",
    "from exciton.nlp.named_entity_recognition import XLMHRL_NER"
   ]
  },
  {
   "cell_type": "code",
   "execution_count": 30,
   "id": "9028e896",
   "metadata": {},
   "outputs": [],
   "source": [
    "model = XLMHRL_NER(device=\"cuda:0\")"
   ]
  },
  {
   "cell_type": "code",
   "execution_count": 33,
   "id": "da555e99",
   "metadata": {},
   "outputs": [
    {
     "name": "stdout",
     "output_type": "stream",
     "text": [
      "[{'named_entities': [{'label': 'PER', 'span': [0, 9], 'text': 'Elon Mask'},\n",
      "                     {'label': 'LOC', 'span': [21, 29], 'text': 'New York'}],\n",
      "  'text': 'Elon Mask will go to New York.'},\n",
      " {'named_entities': [{'label': 'PER', 'span': [0, 0], 'text': ''},\n",
      "                     {'label': 'PER', 'span': [0, 3], 'text': '马斯克'},\n",
      "                     {'label': 'LOC', 'span': [7, 9], 'text': '纽约'},\n",
      "                     {'label': 'ORG', 'span': [10, 13], 'text': '特斯拉'}],\n",
      "  'text': '马斯克明天要去纽约。特斯拉股价上涨。'},\n",
      " {'named_entities': [{'label': 'LOC', 'span': [0, 5], 'text': '홍천두촌면'},\n",
      "                     {'label': 'PER', 'span': [6, 9], 'text': '홍운화'},\n",
      "                     {'label': 'LOC', 'span': [12, 15], 'text': '두촌면'}],\n",
      "  'text': '홍천두촌면 홍운화씨, 두촌면에 어려운 이웃돕기 성금 전달'}]\n"
     ]
    }
   ],
   "source": [
    "results = model.predict([\n",
    "    \"Elon Mask will go to New York.\", \n",
    "    \"马斯克明天要去纽约。特斯拉股价上涨。\", \n",
    "    \"홍천두촌면 홍운화씨, 두촌면에 어려운 이웃돕기 성금 전달\"])\n",
    "pprint(results)"
   ]
  },
  {
   "cell_type": "code",
   "execution_count": 17,
   "id": "9a2d0bd9",
   "metadata": {},
   "outputs": [],
   "source": [
    "# import json\n",
    "\n",
    "# labels = ['O', 'B-MISC', 'I-MISC', 'B-PER', 'I-PER', 'B-ORG', 'I-ORG', 'B-LOC', 'I-LOC']\n",
    "# fout = open(\"/home/tshi/exciton/models/nlp/named_entity_recognition/xlm_roberta_large_ner_hrl/models/labels.json\", \"w\")\n",
    "# json.dump(labels, fout)\n",
    "# fout.close()"
   ]
  },
  {
   "cell_type": "code",
   "execution_count": null,
   "id": "556ae341",
   "metadata": {},
   "outputs": [],
   "source": []
  }
 ],
 "metadata": {
  "kernelspec": {
   "display_name": "Python 3 (ipykernel)",
   "language": "python",
   "name": "python3"
  },
  "language_info": {
   "codemirror_mode": {
    "name": "ipython",
    "version": 3
   },
   "file_extension": ".py",
   "mimetype": "text/x-python",
   "name": "python",
   "nbconvert_exporter": "python",
   "pygments_lexer": "ipython3",
   "version": "3.8.10"
  }
 },
 "nbformat": 4,
 "nbformat_minor": 5
}
