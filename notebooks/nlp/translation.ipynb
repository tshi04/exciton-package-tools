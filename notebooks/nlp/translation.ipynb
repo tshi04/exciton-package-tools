{
 "cells": [
  {
   "cell_type": "code",
   "execution_count": null,
   "id": "344c656b",
   "metadata": {},
   "outputs": [],
   "source": [
    "from exciton.nlp.translation import M2M100\n",
    "\n",
    "model = M2M100(device=\"cuda\")\n",
    "model.get_support_languages()"
   ]
  },
  {
   "cell_type": "code",
   "execution_count": null,
   "id": "8caceb45",
   "metadata": {},
   "outputs": [],
   "source": [
    "# Don't support traditional chinese. But we can translate them to English.\n",
    "source = [\n",
    "    {\"id\": 1, \"source\": \"I love you!\", \"source_lang\": \"eng_Latn\", \"target_lang\": \"zho_Hant\"},\n",
    "    {\"id\": 2, \"source\": \"我爱你！\", \"source_lang\": \"zho_Hant\", \"target_lang\": \"eng_Latn\"}\n",
    "]\n",
    "results = model.predict(source)\n",
    "print(results)"
   ]
  },
  {
   "cell_type": "code",
   "execution_count": null,
   "id": "c2da1da0",
   "metadata": {},
   "outputs": [],
   "source": []
  }
 ],
 "metadata": {
  "kernelspec": {
   "display_name": "Python 3 (ipykernel)",
   "language": "python",
   "name": "python3"
  },
  "language_info": {
   "codemirror_mode": {
    "name": "ipython",
    "version": 3
   },
   "file_extension": ".py",
   "mimetype": "text/x-python",
   "name": "python",
   "nbconvert_exporter": "python",
   "pygments_lexer": "ipython3",
   "version": "3.10.6"
  }
 },
 "nbformat": 4,
 "nbformat_minor": 5
}
