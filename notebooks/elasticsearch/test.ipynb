{
 "cells": [
  {
   "cell_type": "code",
   "execution_count": 1,
   "id": "aa85fa32-ec1c-4e0b-a279-eb58cb985619",
   "metadata": {},
   "outputs": [],
   "source": [
    "from exciton_tools.elasticsearch import get_all_docs"
   ]
  },
  {
   "cell_type": "code",
   "execution_count": null,
   "id": "2920656c-5cd0-40c7-8ae1-3ba62a59a7bb",
   "metadata": {},
   "outputs": [],
   "source": []
  }
 ],
 "metadata": {
  "kernelspec": {
   "display_name": "Python 3 (ipykernel)",
   "language": "python",
   "name": "python3"
  },
  "language_info": {
   "codemirror_mode": {
    "name": "ipython",
    "version": 3
   },
   "file_extension": ".py",
   "mimetype": "text/x-python",
   "name": "python",
   "nbconvert_exporter": "python",
   "pygments_lexer": "ipython3",
   "version": "3.10.12"
  }
 },
 "nbformat": 4,
 "nbformat_minor": 5
}
