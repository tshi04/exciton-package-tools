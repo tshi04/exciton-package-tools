{
 "cells": [
  {
   "cell_type": "code",
   "execution_count": 1,
   "id": "bde6a90d-4171-4a46-870a-af72f07fe708",
   "metadata": {},
   "outputs": [],
   "source": [
    "from exciton_tools.rabbitmq import get_rmq_queue_length\n",
    "from exciton_tools.rabbitmq import send_messages_to_exchange"
   ]
  },
  {
   "cell_type": "code",
   "execution_count": null,
   "id": "f6fa12e7-b323-44c9-8ac8-b5cf58d055ce",
   "metadata": {},
   "outputs": [],
   "source": []
  }
 ],
 "metadata": {
  "kernelspec": {
   "display_name": "Python 3 (ipykernel)",
   "language": "python",
   "name": "python3"
  },
  "language_info": {
   "codemirror_mode": {
    "name": "ipython",
    "version": 3
   },
   "file_extension": ".py",
   "mimetype": "text/x-python",
   "name": "python",
   "nbconvert_exporter": "python",
   "pygments_lexer": "ipython3",
   "version": "3.10.12"
  }
 },
 "nbformat": 4,
 "nbformat_minor": 5
}
