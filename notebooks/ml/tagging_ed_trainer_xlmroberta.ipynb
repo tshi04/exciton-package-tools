{
 "cells": [
  {
   "cell_type": "code",
   "execution_count": null,
   "id": "c4e71b33",
   "metadata": {},
   "outputs": [],
   "source": [
    "import json\n",
    "from exciton.ml.tagging.bert import Tagging_Trainer"
   ]
  },
  {
   "cell_type": "code",
   "execution_count": null,
   "id": "8118ac50",
   "metadata": {},
   "outputs": [],
   "source": [
    "args = {\n",
    "    \"data\": \"nlp/event_detection/ed_maven_v1\",\n",
    "    \"working_dir\": \"/tmp/ed_maven_xlmroberta\",\n",
    "    \"plm\": \"xlmroberta\",\n",
    "    \"n_epoch\": 10,\n",
    "    \"batch_size\": 20,\n",
    "    \"n_checkpoints\": 2,\n",
    "    \"train_base_model\": False,\n",
    "    \"device\": \"cuda:1\",\n",
    "    \"lr_schedule\": \"none\",\n",
    "    \"learning_rate\": 0.0001,\n",
    "    \"grad_clip\": 1.0,\n",
    "    \"step_size\": 1,\n",
    "    \"step_decay\": 0.5,\n",
    "    \"warmup_step\": 2000,\n",
    "    \"drop_rate\": 0.2,\n",
    "    \"n_classes\": 337,\n",
    "}\n",
    "\n",
    "model = Tagging_Trainer(\n",
    "    working_dir=args[\"working_dir\"],\n",
    "    n_classes=args[\"n_classes\"],\n",
    "    plm = args[\"plm\"],\n",
    "    drop_rate=args[\"drop_rate\"],\n",
    "    device=args[\"device\"],\n",
    ")"
   ]
  },
  {
   "cell_type": "code",
   "execution_count": null,
   "id": "658cd670",
   "metadata": {},
   "outputs": [],
   "source": [
    "data_train = []\n",
    "with open(f\"/home/tshi/exciton/datasets/{args['data']}/train.jsonl\", \"r\") as fp:\n",
    "    for line in fp:\n",
    "        itm = json.loads(line)\n",
    "        data_train.append(itm)\n",
    "print(data_train[0])"
   ]
  },
  {
   "cell_type": "code",
   "execution_count": null,
   "id": "ee071be1",
   "metadata": {},
   "outputs": [],
   "source": [
    "model.fit(\n",
    "    data_train=data_train,\n",
    "    n_epoch=args[\"n_epoch\"],\n",
    "    batch_size=args[\"batch_size\"],\n",
    "    learning_rate=args[\"learning_rate\"],\n",
    "    lr_schedule=args[\"lr_schedule\"],\n",
    "    step_size=args[\"step_size\"],\n",
    "    step_decay=args[\"step_decay\"],\n",
    "    warmup_step=args[\"warmup_step\"],\n",
    "    train_base_model=args[\"train_base_model\"],\n",
    "    grad_clip=args[\"grad_clip\"],\n",
    "    n_checkpoints=args[\"n_checkpoints\"],\n",
    ")"
   ]
  },
  {
   "cell_type": "code",
   "execution_count": null,
   "id": "bb35427d",
   "metadata": {},
   "outputs": [],
   "source": [
    "with open(f\"{args['working_dir']}/param.json\", \"w\") as fout:\n",
    "    json.dump(args, fout, indent=4)"
   ]
  },
  {
   "cell_type": "code",
   "execution_count": null,
   "id": "7f8670c0",
   "metadata": {},
   "outputs": [],
   "source": []
  }
 ],
 "metadata": {
  "kernelspec": {
   "display_name": "Python 3 (ipykernel)",
   "language": "python",
   "name": "python3"
  },
  "language_info": {
   "codemirror_mode": {
    "name": "ipython",
    "version": 3
   },
   "file_extension": ".py",
   "mimetype": "text/x-python",
   "name": "python",
   "nbconvert_exporter": "python",
   "pygments_lexer": "ipython3",
   "version": "3.8.10"
  }
 },
 "nbformat": 4,
 "nbformat_minor": 5
}
